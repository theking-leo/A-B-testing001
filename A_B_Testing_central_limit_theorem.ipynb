{
  "cells": [
    {
      "cell_type": "markdown",
      "metadata": {
        "id": "gQ6c1Mj50zGg"
      },
      "source": [
        "# Central Limit Theorem"
      ]
    },
    {
      "cell_type": "markdown",
      "metadata": {
        "id": "FnMPwGLE0zGi"
      },
      "source": [
        "Sources:\n",
        "\n",
        "* \"Naked statistics\" by  Charles J. Wheelan"
      ]
    },
    {
      "cell_type": "markdown",
      "metadata": {
        "id": "9tKBp_vh0zGj"
      },
      "source": [
        "**A core principle underlying the central limit theorem is that a large, properly drawn sample will resemble the population from which it is drawn.**"
      ]
    },
    {
      "cell_type": "markdown",
      "metadata": {
        "id": "bg6CaGiS0zGj"
      },
      "source": [
        "The central limit theorem enables us to make the following inferences:\n",
        "\n",
        "* If we have detailed information about a properly drawn sample (mean and standard deviation), we can make accurate inferences about the population from which that sample was drawn. The central limit tells us that a large sample will not typically deviate  a lot from its population.\n",
        "* The central limit theorem allows us to calculate the probability that a particular sample was drawn from a given population. If that probability is low, then we  can conclude with a high degree of confidence that the sample was not drown from the population in question.\n",
        "* If we know the underlying characteristics of two samples, we can infer whether or not both samples were likley drawn from the same population."
      ]
    },
    {
      "cell_type": "markdown",
      "source": [
        "**The central limit theorem** tells us that, no matter the original distribution of the population, as we take more and more samples, the distribution of sample means will approach a normal distribution"
      ],
      "metadata": {
        "id": "Oi8tSsaobk4W"
      }
    },
    {
      "cell_type": "code",
      "execution_count": null,
      "metadata": {
        "id": "qBfSSRjJ0zGk"
      },
      "outputs": [],
      "source": [
        "import numpy as np\n",
        "import pandas as pd\n",
        "import scipy.stats as stats\n",
        "import random\n",
        "import matplotlib.pyplot as plt"
      ]
    },
    {
      "cell_type": "markdown",
      "source": [
        "## Looking at the CLT with simulated data"
      ],
      "metadata": {
        "id": "nIM1MyKbQP93"
      }
    },
    {
      "cell_type": "markdown",
      "metadata": {
        "id": "vVFdjMIb0zGk"
      },
      "source": [
        "### The normal distribution\n",
        "\n",
        "It is a theoretical distribution defined by mathematical properties.\n",
        "\n",
        "It is a bell shaped-shaped distribution in which:\n",
        "* 68 percent of the observations lie within one standard deviation of the mean\n",
        "* 95 percent lies within two standard deviations\n",
        "\n",
        "We can simulate the normal distribution by generating numbers with `stats.norm.rvs`."
      ]
    },
    {
      "cell_type": "code",
      "execution_count": null,
      "metadata": {
        "colab": {
          "base_uri": "https://localhost:8080/",
          "height": 265
        },
        "id": "kXXQqwrv0zGk",
        "outputId": "a4241957-f43e-40a5-93fa-816ff93f8900"
      },
      "outputs": [
        {
          "output_type": "display_data",
          "data": {
            "text/plain": [
              "<Figure size 432x288 with 1 Axes>"
            ],
            "image/png": "[encoded data removed]"
          },
          "metadata": {
            "needs_background": "light"
          }
        }
      ],
      "source": [
        "norm_dist = stats.norm.rvs(loc=0,\n",
        "                           scale=1,\n",
        "                           size=100000,\n",
        "                           random_state=123\n",
        "                          )\n",
        "norm_dist = pd.Series(norm_dist)\n",
        "norm_dist.hist(bins=30);"
      ]
    },
    {
      "cell_type": "markdown",
      "source": [
        "#### Percentage of the simulated data that falls between the standard deviations#"
      ],
      "metadata": {
        "id": "P_sTwrH3ypd6"
      }
    },
    {
      "cell_type": "markdown",
      "source": [
        "Mean of the normal distribution"
      ],
      "metadata": {
        "id": "FCRQsdr3y8Y0"
      }
    },
    {
      "cell_type": "code",
      "execution_count": null,
      "metadata": {
        "colab": {
          "base_uri": "https://localhost:8080/"
        },
        "id": "axMYA9ai0zGl",
        "outputId": "47cabac5-e138-470d-e7bb-405e70a3974d"
      },
      "outputs": [
        {
          "output_type": "execute_result",
          "data": {
            "text/plain": [
              "0.0013148201751476637"
            ]
          },
          "metadata": {},
          "execution_count": 3
        }
      ],
      "source": [
        "mean_norm = np.mean(norm_dist)\n",
        "mean_norm"
      ]
    },
    {
      "cell_type": "markdown",
      "source": [
        "Standard deviation of the normal distribution"
      ],
      "metadata": {
        "id": "jBn-f1MFzCl9"
      }
    },
    {
      "cell_type": "code",
      "execution_count": null,
      "metadata": {
        "colab": {
          "base_uri": "https://localhost:8080/"
        },
        "id": "OJa1VTU70zGl",
        "outputId": "67e281fe-ce79-4b03-e676-3c704610ef35"
      },
      "outputs": [
        {
          "output_type": "execute_result",
          "data": {
            "text/plain": [
              "0.9995701769427331"
            ]
          },
          "metadata": {},
          "execution_count": 4
        }
      ],
      "source": [
        "std_norm = np.std(norm_dist)\n",
        "std_norm"
      ]
    },
    {
      "cell_type": "markdown",
      "source": [
        "Our lower boundary for 68% of the data - mean minus the standard deviation"
      ],
      "metadata": {
        "id": "1PhZToNgzIAu"
      }
    },
    {
      "cell_type": "code",
      "execution_count": null,
      "metadata": {
        "colab": {
          "base_uri": "https://localhost:8080/"
        },
        "id": "rt0VY26x0zGm",
        "outputId": "d63b3398-c683-4945-ac3e-a2a448dd93b8"
      },
      "outputs": [
        {
          "output_type": "execute_result",
          "data": {
            "text/plain": [
              "-0.9982553567675855"
            ]
          },
          "metadata": {},
          "execution_count": 5
        }
      ],
      "source": [
        "sigma_negative = mean_norm - std_norm\n",
        "sigma_negative"
      ]
    },
    {
      "cell_type": "markdown",
      "source": [
        "Our upper boundary for 68% of the data - mean plus the standard deviation"
      ],
      "metadata": {
        "id": "7cjx96FHzQWa"
      }
    },
    {
      "cell_type": "code",
      "execution_count": null,
      "metadata": {
        "id": "EcTn8OqH0zGm",
        "colab": {
          "base_uri": "https://localhost:8080/"
        },
        "outputId": "35d05b47-97b9-4304-d2cc-d8a337b68e82"
      },
      "outputs": [
        {
          "output_type": "execute_result",
          "data": {
            "text/plain": [
              "1.0008849971178808"
            ]
          },
          "metadata": {},
          "execution_count": 6
        }
      ],
      "source": [
        "# find out the 1 standard deviation\n",
        "sigma_positive = mean_norm + std_norm\n",
        "sigma_positive"
      ]
    },
    {
      "cell_type": "markdown",
      "source": [
        "Plotting our boundaries on our simulated data\n",
        "* red lines are one standard deviation - our boundaries for 68% of the data\n",
        "* green lines are two standard deviations - our boundaries for 95% of the data"
      ],
      "metadata": {
        "id": "TmQgvuGfzlMl"
      }
    },
    {
      "cell_type": "code",
      "execution_count": null,
      "metadata": {
        "id": "xbnyytsL0zGn",
        "colab": {
          "base_uri": "https://localhost:8080/",
          "height": 281
        },
        "outputId": "17c69aa6-45a0-4e83-cfd4-436bf85ab13e"
      },
      "outputs": [
        {
          "output_type": "display_data",
          "data": {
            "text/plain": [
              "<Figure size 432x288 with 1 Axes>"
            ],
            "image/png": "[encoded data removed]"
          },
          "metadata": {
            "needs_background": "light"
          }
        }
      ],
      "source": [
        "# plot the normal distribution\n",
        "plt.hist(norm_dist, bins=30)\n",
        "\n",
        "# represent the -1 standard deviation\n",
        "plt.axvline(sigma_negative, color = 'r')\n",
        "plt.axvline(sigma_negative*2, color = 'g')\n",
        "\n",
        "# represent the 1 standard deviation\n",
        "plt.axvline(sigma_positive, color = 'r')\n",
        "plt.axvline(sigma_positive*2, color = 'g')\n",
        "\n",
        "plt.title('Representing a normal distribution')\n",
        "plt.show()"
      ]
    },
    {
      "cell_type": "markdown",
      "metadata": {
        "id": "E6B0_lAH0zGn"
      },
      "source": [
        "What proportion of our `norm_dist` falls within 1 standard deviation from the mean?"
      ]
    },
    {
      "cell_type": "code",
      "execution_count": null,
      "metadata": {
        "id": "T3UE523V0zGn",
        "colab": {
          "base_uri": "https://localhost:8080/"
        },
        "outputId": "4afeb6e7-5667-46d7-eac9-531993ed680d"
      },
      "outputs": [
        {
          "output_type": "stream",
          "name": "stdout",
          "text": [
            "68.1% lies within one standard deviation of the mean\n"
          ]
        }
      ],
      "source": [
        "sigma_plus = len(norm_dist[(norm_dist > sigma_negative)\n",
        "                          &(norm_dist < sigma_positive)])\n",
        "\n",
        "perc_1_std = sigma_plus/len(norm_dist)\n",
        "\n",
        "print(f\"{round(perc_1_std * 100, 2)}% lies within one standard deviation of the mean\")"
      ]
    },
    {
      "cell_type": "markdown",
      "source": [
        "What proportion of our `norm_dist` falls beyond 1 standard deviation from the mean?"
      ],
      "metadata": {
        "id": "TKDJzC5yTre9"
      }
    },
    {
      "cell_type": "code",
      "source": [
        "sigma_plus_inverted = len(norm_dist[(norm_dist < sigma_negative)\n",
        "                                   |(norm_dist > sigma_positive)])\n",
        "\n",
        "out_1_std = sigma_plus_inverted / len(norm_dist)\n",
        "\n",
        "print(f\"{round(out_1_std * 100, 2)}% falls outside of one standard deviation of the mean\")"
      ],
      "metadata": {
        "id": "cZb6qvCUTng0",
        "colab": {
          "base_uri": "https://localhost:8080/"
        },
        "outputId": "d134882b-5a95-41dc-e4ac-168305098fdc"
      },
      "execution_count": null,
      "outputs": [
        {
          "output_type": "stream",
          "name": "stdout",
          "text": [
            "31.9% falls outside of one standard deviation of the mean\n"
          ]
        }
      ]
    },
    {
      "cell_type": "markdown",
      "metadata": {
        "id": "RRB48gZm0zGo"
      },
      "source": [
        "##### **Exercise 1:**\n",
        "\n",
        "What proportion of our `norm_dist` falls beyond two standard deviations of the mean? And beyond three?"
      ]
    },
    {
      "cell_type": "code",
      "execution_count": null,
      "metadata": {
        "id": "Low15WOy0zGo",
        "colab": {
          "base_uri": "https://localhost:8080/"
        },
        "outputId": "f08e2040-b03a-4e69-9c55-ccb2d30a4440"
      },
      "outputs": [
        {
          "output_type": "stream",
          "name": "stdout",
          "text": [
            "4.46% falls outside of two standard deviation of the mean\n"
          ]
        }
      ],
      "source": [
        "sigma_plus_inverted_2 = len(norm_dist[(norm_dist < sigma_negative*2)\n",
        "                                     |(norm_dist > sigma_positive*2)])\n",
        "\n",
        "out_2_std = sigma_plus_inverted_2 / len(norm_dist)\n",
        "\n",
        "print(f\"{round(out_2_std * 100, 2)}% falls outside of two standard deviation of the mean\")"
      ]
    },
    {
      "cell_type": "markdown",
      "metadata": {
        "id": "NY1B7dcE0zGr"
      },
      "source": [
        "## Looking at the CLT with an actual population\n",
        "\n",
        "Let's move from theoretical distributions to real populations. We generally do not have access to a whole population: we only have access to samples. We use these samples to make guesses about the population. In this exercise we _do_ have access to the population so that we can prove how to make those guesses, and how accurate they can be."
      ]
    },
    {
      "cell_type": "markdown",
      "metadata": {
        "id": "8qZkRv060zGr"
      },
      "source": [
        "Here's the distribution of our population, feel free to make up a story for the numbers"
      ]
    },
    {
      "cell_type": "code",
      "execution_count": null,
      "metadata": {
        "id": "o8MZRYem0zGr",
        "colab": {
          "base_uri": "https://localhost:8080/",
          "height": 206
        },
        "outputId": "fe274a82-b2c4-4120-addf-de2ba3cecac5"
      },
      "outputs": [
        {
          "output_type": "execute_result",
          "data": {
            "text/plain": [
              "          0\n",
              "0  1.160131\n",
              "1  0.222175\n",
              "2  3.101406\n",
              "3  0.758150\n",
              "4  2.159439"
            ],
            "text/html": [
              "\n",
              "  <div id=\"df-b48f717e-878b-4bc7-8f73-6dcc2f286362\">\n",
              "    <div class=\"colab-df-container\">\n",
              "      <div>\n",
              "<style scoped>\n",
              "    .dataframe tbody tr th:only-of-type {\n",
              "        vertical-align: middle;\n",
              "    }\n",
              "\n",
              "    .dataframe tbody tr th {\n",
              "        vertical-align: top;\n",
              "    }\n",
              "\n",
              "    .dataframe thead th {\n",
              "        text-align: right;\n",
              "    }\n",
              "</style>\n",
              "<table border=\"1\" class=\"dataframe\">\n",
              "  <thead>\n",
              "    <tr style=\"text-align: right;\">\n",
              "      <th></th>\n",
              "      <th>0</th>\n",
              "    </tr>\n",
              "  </thead>\n",
              "  <tbody>\n",
              "    <tr>\n",
              "      <th>0</th>\n",
              "      <td>1.160131</td>\n",
              "    </tr>\n",
              "    <tr>\n",
              "      <th>1</th>\n",
              "      <td>0.222175</td>\n",
              "    </tr>\n",
              "    <tr>\n",
              "      <th>2</th>\n",
              "      <td>3.101406</td>\n",
              "    </tr>\n",
              "    <tr>\n",
              "      <th>3</th>\n",
              "      <td>0.758150</td>\n",
              "    </tr>\n",
              "    <tr>\n",
              "      <th>4</th>\n",
              "      <td>2.159439</td>\n",
              "    </tr>\n",
              "  </tbody>\n",
              "</table>\n",
              "</div>\n",
              "      <button class=\"colab-df-convert\" onclick=\"convertToInteractive('df-b48f717e-878b-4bc7-8f73-6dcc2f286362')\"\n",
              "              title=\"Convert this dataframe to an interactive table.\"\n",
              "              style=\"display:none;\">\n",
              "        \n",
              "  <svg xmlns=\"http://www.w3.org/2000/svg\" height=\"24px\"viewBox=\"0 0 24 24\"\n",
              "       width=\"24px\">\n",
              "    <path d=\"M0 0h24v24H0V0z\" fill=\"none\"/>\n",
              "    <path d=\"M18.56 5.44l.94 2.06.94-2.06 2.06-.94-2.06-.94-.94-2.06-.94 2.06-2.06.94zm-11 1L8.5 8.5l.94-2.06 2.06-.94-2.06-.94L8.5 2.5l-.94 2.06-2.06.94zm10 10l.94 2.06.94-2.06 2.06-.94-2.06-.94-.94-2.06-.94 2.06-2.06.94z\"/><path d=\"M17.41 7.96l-1.37-1.37c-.4-.4-.92-.59-1.43-.59-.52 0-1.04.2-1.43.59L10.3 9.45l-7.72 7.72c-.78.78-.78 2.05 0 2.83L4 21.41c.39.39.9.59 1.41.59.51 0 1.02-.2 1.41-.59l7.78-7.78 2.81-2.81c.8-.78.8-2.07 0-2.86zM5.41 20L4 18.59l7.72-7.72 1.47 1.35L5.41 20z\"/>\n",
              "  </svg>\n",
              "      </button>\n",
              "      \n",
              "  <style>\n",
              "    .colab-df-container {\n",
              "      display:flex;\n",
              "      flex-wrap:wrap;\n",
              "      gap: 12px;\n",
              "    }\n",
              "\n",
              "    .colab-df-convert {\n",
              "      background-color: #E8F0FE;\n",
              "      border: none;\n",
              "      border-radius: 50%;\n",
              "      cursor: pointer;\n",
              "      display: none;\n",
              "      fill: #1967D2;\n",
              "      height: 32px;\n",
              "      padding: 0 0 0 0;\n",
              "      width: 32px;\n",
              "    }\n",
              "\n",
              "    .colab-df-convert:hover {\n",
              "      background-color: #E2EBFA;\n",
              "      box-shadow: 0px 1px 2px rgba(60, 64, 67, 0.3), 0px 1px 3px 1px rgba(60, 64, 67, 0.15);\n",
              "      fill: #174EA6;\n",
              "    }\n",
              "\n",
              "    [theme=dark] .colab-df-convert {\n",
              "      background-color: #3B4455;\n",
              "      fill: #D2E3FC;\n",
              "    }\n",
              "\n",
              "    [theme=dark] .colab-df-convert:hover {\n",
              "      background-color: #434B5C;\n",
              "      box-shadow: 0px 1px 3px 1px rgba(0, 0, 0, 0.15);\n",
              "      filter: drop-shadow(0px 1px 2px rgba(0, 0, 0, 0.3));\n",
              "      fill: #FFFFFF;\n",
              "    }\n",
              "  </style>\n",
              "\n",
              "      <script>\n",
              "        const buttonEl =\n",
              "          document.querySelector('#df-b48f717e-878b-4bc7-8f73-6dcc2f286362 button.colab-df-convert');\n",
              "        buttonEl.style.display =\n",
              "          google.colab.kernel.accessAllowed ? 'block' : 'none';\n",
              "\n",
              "        async function convertToInteractive(key) {\n",
              "          const element = document.querySelector('#df-b48f717e-878b-4bc7-8f73-6dcc2f286362');\n",
              "          const dataTable =\n",
              "            await google.colab.kernel.invokeFunction('convertToInteractive',\n",
              "                                                     [key], {});\n",
              "          if (!dataTable) return;\n",
              "\n",
              "          const docLinkHtml = 'Like what you see? Visit the ' +\n",
              "            '<a target=\"_blank\" href=https://colab.research.google.com/notebooks/data_table.ipynb>data table notebook</a>'\n",
              "            + ' to learn more about interactive tables.';\n",
              "          element.innerHTML = '';\n",
              "          dataTable['output_type'] = 'display_data';\n",
              "          await google.colab.output.renderOutput(dataTable, element);\n",
              "          const docLink = document.createElement('div');\n",
              "          docLink.innerHTML = docLinkHtml;\n",
              "          element.appendChild(docLink);\n",
              "        }\n",
              "      </script>\n",
              "    </div>\n",
              "  </div>\n",
              "  "
            ]
          },
          "metadata": {},
          "execution_count": 11
        }
      ],
      "source": [
        "# population.csv\n",
        "url = 'https://drive.google.com/file/d/1jomahr4JUPi8lAO33_RB1I-1089feWg2/view?usp=sharing'\n",
        "path = 'https://drive.google.com/uc?export=download&id='+url.split('/')[-2]\n",
        "pop = pd.read_csv(path)\n",
        "\n",
        "pop.head()"
      ]
    },
    {
      "cell_type": "code",
      "execution_count": null,
      "metadata": {
        "id": "ulO__Uhf0zGr",
        "colab": {
          "base_uri": "https://localhost:8080/",
          "height": 607
        },
        "outputId": "d555741a-a71a-4e96-d216-bc0ef5d85404"
      },
      "outputs": [
        {
          "output_type": "display_data",
          "data": {
            "text/plain": [
              "<Figure size 1440x720 with 1 Axes>"
            ],
            "image/png": "[encoded data removed]"
          },
          "metadata": {
            "needs_background": "light"
          }
        }
      ],
      "source": [
        "pop.hist(bins=50, grid=False, color=\"#007398\", figsize=(20,10));\n",
        "plt.axvline(float(pop.mean()), linestyle=\"--\", color=\"#f8485e\");"
      ]
    },
    {
      "cell_type": "markdown",
      "source": [
        "Population mean:"
      ],
      "metadata": {
        "id": "EysaEVuo5T0X"
      }
    },
    {
      "cell_type": "code",
      "execution_count": null,
      "metadata": {
        "id": "FlAFDJYN0zGr",
        "colab": {
          "base_uri": "https://localhost:8080/"
        },
        "outputId": "f8966d72-bc53-4be5-b9d9-b424b3bd577e"
      },
      "outputs": [
        {
          "output_type": "execute_result",
          "data": {
            "text/plain": [
              "0    3.387146\n",
              "dtype: float64"
            ]
          },
          "metadata": {},
          "execution_count": 13
        }
      ],
      "source": [
        "pop_mean = pop.mean()\n",
        "pop_mean"
      ]
    },
    {
      "cell_type": "markdown",
      "source": [
        "Population Standard Deviation"
      ],
      "metadata": {
        "id": "GgMxl8gZ5X1z"
      }
    },
    {
      "cell_type": "code",
      "execution_count": null,
      "metadata": {
        "id": "HVV9WKmh0zGr",
        "colab": {
          "base_uri": "https://localhost:8080/"
        },
        "outputId": "6199ae5f-2c5d-4622-996c-013e1390004a"
      },
      "outputs": [
        {
          "output_type": "execute_result",
          "data": {
            "text/plain": [
              "0    2.438371\n",
              "dtype: float64"
            ]
          },
          "metadata": {},
          "execution_count": 14
        }
      ],
      "source": [
        "pop_std = np.std(pop)\n",
        "pop_std"
      ]
    },
    {
      "cell_type": "markdown",
      "source": [
        "Number of observations in our population"
      ],
      "metadata": {
        "id": "BL5ChtBe5bCx"
      }
    },
    {
      "cell_type": "code",
      "execution_count": null,
      "metadata": {
        "id": "v2vG77V10zGr",
        "colab": {
          "base_uri": "https://localhost:8080/"
        },
        "outputId": "6bba79da-d67c-44cc-952e-02db84b33b9b"
      },
      "outputs": [
        {
          "output_type": "execute_result",
          "data": {
            "text/plain": [
              "12500"
            ]
          },
          "metadata": {},
          "execution_count": 15
        }
      ],
      "source": [
        "len(pop)"
      ]
    },
    {
      "cell_type": "markdown",
      "metadata": {
        "id": "xx3VAlDD0zGs"
      },
      "source": [
        "Let's take a sample from our population:"
      ]
    },
    {
      "cell_type": "code",
      "execution_count": null,
      "metadata": {
        "id": "UHEevCo80zGs"
      },
      "outputs": [],
      "source": [
        "sample = pop.sample(n=50, random_state=4321)"
      ]
    },
    {
      "cell_type": "markdown",
      "source": [
        "Let's plot this sample as a histogram"
      ],
      "metadata": {
        "id": "s2WUKrKP5lnv"
      }
    },
    {
      "cell_type": "code",
      "execution_count": null,
      "metadata": {
        "id": "w8K-Wl1M0zGs",
        "colab": {
          "base_uri": "https://localhost:8080/",
          "height": 281
        },
        "outputId": "f2432569-61dc-4221-d088-1de98eace0ad"
      },
      "outputs": [
        {
          "output_type": "display_data",
          "data": {
            "text/plain": [
              "<Figure size 432x288 with 1 Axes>"
            ],
            "image/png": "[encoded data removed]"
          },
          "metadata": {
            "needs_background": "light"
          }
        }
      ],
      "source": [
        "# Histogram\n",
        "sample.hist(bins=50, grid=False, color=\"#007398\");\n",
        "\n",
        "# Vertical red line representing the sample mean\n",
        "plt.axvline(float(sample.mean()), linestyle=\"--\", ymax=0.9, color=\"#f8485e\");"
      ]
    },
    {
      "cell_type": "markdown",
      "metadata": {
        "id": "ZBzSaVQ70zGs"
      },
      "source": [
        "The mean of the sample is similar but not equal to the mean of the population."
      ]
    },
    {
      "cell_type": "code",
      "execution_count": null,
      "metadata": {
        "id": "z_aXgtrH0zGs",
        "colab": {
          "base_uri": "https://localhost:8080/"
        },
        "outputId": "b72e6c5e-f237-4155-f28d-3d7c8fbeb3a1"
      },
      "outputs": [
        {
          "output_type": "stream",
          "name": "stdout",
          "text": [
            "sample mean: 2.994229904318285\n",
            "population mean: 3.3871463523736334\n"
          ]
        }
      ],
      "source": [
        "# Sample mean\n",
        "print('sample mean:', float(np.mean(sample)))\n",
        "print('population mean:', float(pop_mean))"
      ]
    },
    {
      "cell_type": "markdown",
      "metadata": {
        "id": "9SGvJfWA0zGs"
      },
      "source": [
        "Let's recap what we know about the sample mean in relation to the population mean\n",
        "\n",
        "According to the central limit theorem, the sample means for any population will be distributed roughly as a normal distribution around the population mean:\n",
        "* Most of the sample means will be close to the population mean.\n",
        "* The sample means will be distributed, approximately, as a normal distribution around the population mean.\n",
        "* All of this will be true no matter what the distribution of the population looks like. The population from which the samples are being drawn does not have to have a normal distribution in order for the sample means to be distributed normally.\n",
        "\n",
        "Some general rules about the central limit theorem to remember:\n",
        "* If the population has extreme outliers and the samples are very small, the CLT may not function.\n",
        "* We may have a population with a higly skewed distribution, the distribution of the sample means will not be skewed.\n",
        "* The larger the number of the samples, the more closely the distribution will approximate the normal distribution."
      ]
    },
    {
      "cell_type": "markdown",
      "metadata": {
        "id": "1f9MEqvb0zGt"
      },
      "source": [
        "### Sampling distributions"
      ]
    },
    {
      "cell_type": "markdown",
      "metadata": {
        "id": "liBj8l2O0zGt"
      },
      "source": [
        "Now, we take 100, 1000 or 10000 samples, each one of size 50"
      ]
    },
    {
      "cell_type": "code",
      "execution_count": null,
      "metadata": {
        "id": "ClAMczNs0zGt"
      },
      "outputs": [],
      "source": [
        "number_of_samples = 10000\n",
        "sample_size = 50\n",
        "samples = []\n",
        "\n",
        "for number in range(number_of_samples):\n",
        "    simple_random_sample = pop.sample(n= sample_size,\n",
        "                                      replace=True\n",
        "                                     )\n",
        "    samples.append([simple_random_sample])"
      ]
    },
    {
      "cell_type": "markdown",
      "metadata": {
        "id": "mfew070z0zGt"
      },
      "source": [
        "Let's make a list of the mean for each sample:"
      ]
    },
    {
      "cell_type": "code",
      "execution_count": null,
      "metadata": {
        "id": "Zx2b4VGq0zGu"
      },
      "outputs": [],
      "source": [
        "sample_means = []\n",
        "\n",
        "for s in samples:\n",
        "    sample_means.append(np.mean(s))"
      ]
    },
    {
      "cell_type": "markdown",
      "metadata": {
        "id": "x8GLjHwB0zGu"
      },
      "source": [
        "The result is the **sampling distribution** of the **sample means**:"
      ]
    },
    {
      "cell_type": "code",
      "execution_count": null,
      "metadata": {
        "id": "zMlU7RKW0zGu",
        "colab": {
          "base_uri": "https://localhost:8080/",
          "height": 592
        },
        "outputId": "c46683e6-1ba7-412a-bd14-f07c624348b8"
      },
      "outputs": [
        {
          "output_type": "display_data",
          "data": {
            "text/plain": [
              "<Figure size 1440x720 with 1 Axes>"
            ],
            "image/png": "[encoded data removed]"
          },
          "metadata": {
            "needs_background": "light"
          }
        }
      ],
      "source": [
        "# Creating a series of the means\n",
        "sampling_dist_sample_means = pd.Series(sample_means)\n",
        "# Finding the mean of the Series\n",
        "sdsm_mean = float(sampling_dist_sample_means.mean())\n",
        "# Finding the Standard Error\n",
        "se = float(sampling_dist_sample_means.std())\n",
        "\n",
        "# Plotting the Histogram\n",
        "sampling_dist_sample_means.hist(bins=50, grid=False, figsize=(20,10), color=\"#f8485e\");\n",
        "\n",
        "# Plotting the vertical lines\n",
        "plt.axvline(sdsm_mean, linestyle=\"--\",linewidth=3.5, color=\"#EBEBEB\");\n",
        "plt.axvline(sdsm_mean+se, linestyle=\"--\",linewidth=3.5, color=\"#595C5D\");\n",
        "plt.axvline(sdsm_mean-se, linestyle=\"--\",linewidth=3.5, color=\"#595C5D\");"
      ]
    },
    {
      "cell_type": "markdown",
      "metadata": {
        "id": "q28OnLp80zGu"
      },
      "source": [
        "We had a population of 12.500 elements, which had a weird bimodal distribution. We took 10.000 samples, each sample had size of 50. We then looked at the mean of each of the 10.000 samples, giving us 10.000 sample means. This is called a sampling distribution and it approximates the normal distribution.\n",
        "\n",
        "The larger the sample size and the more samples taken, the more closely the distribution of sample means will approximate the normal distribution. As a rule of thumb, the sample size must at least 30 for the central limit theorem to hold true.\n",
        "> **Note:** a larger sample is less likely to be affected by a random variation."
      ]
    },
    {
      "cell_type": "markdown",
      "metadata": {
        "id": "XnEFipgL0zGv"
      },
      "source": [
        "The mean of the sampling distribution of the sample means should be pretty close to the true mean of the population:"
      ]
    },
    {
      "cell_type": "code",
      "execution_count": null,
      "metadata": {
        "id": "Qv5_yb4X0zGv",
        "colab": {
          "base_uri": "https://localhost:8080/"
        },
        "outputId": "e95052a0-3aa9-4b57-d914-ed72862c8a06"
      },
      "outputs": [
        {
          "output_type": "stream",
          "name": "stdout",
          "text": [
            "The difference between the population mean and the mean of the sampling distribution is 0.0036\n"
          ]
        }
      ],
      "source": [
        "difference = pop_mean - np.mean(sampling_dist_sample_means)\n",
        "print(f\"The difference between the population mean and the mean of the sampling distribution is {round(difference[0], 4)}\")"
      ]
    },
    {
      "cell_type": "markdown",
      "source": [
        "### Standard error"
      ],
      "metadata": {
        "id": "iRB05LTAPxMV"
      }
    },
    {
      "cell_type": "markdown",
      "metadata": {
        "id": "WdrtyCYQ0zGv"
      },
      "source": [
        "We know that in a normal distribution, 95% of the values fall within 2 standard deviations of the mean. We will check that. But first, a terminology alert:\n",
        "\n",
        "> The *standard deviation of the sampling distribution of the sample means* is called **standard error of the mean** or simply **standard error**.\n",
        "\n"
      ]
    },
    {
      "cell_type": "markdown",
      "metadata": {
        "id": "DBZpGjqM0zGw"
      },
      "source": [
        "What is the difference between the standard error and the standard deviation?\n",
        "\n",
        "* The standard deviation measures the dispersion in the population or sample.\n",
        "* The standard error measures the dispersion of the sampling distribution of sample means.\n",
        "\n",
        "Let's look at the standard error for the samples taken from our popultaion"
      ]
    },
    {
      "cell_type": "code",
      "execution_count": null,
      "metadata": {
        "id": "lLGhZIWe0zGv",
        "colab": {
          "base_uri": "https://localhost:8080/"
        },
        "outputId": "6e058b92-cead-4f16-a209-f5c658457783"
      },
      "outputs": [
        {
          "output_type": "execute_result",
          "data": {
            "text/plain": [
              "0.3426619185774776"
            ]
          },
          "metadata": {},
          "execution_count": 23
        }
      ],
      "source": [
        "standard_error = np.std(sampling_dist_sample_means)\n",
        "standard_error"
      ]
    },
    {
      "cell_type": "markdown",
      "source": [
        "* We know that the standard error is one standard deviation for our distribution of the sample means.\n",
        "* We know that 95% of values are contained within 2 standard deviations of the mean of our distribution of sample means.\n",
        "* We can therefore conclude that if another sample has a mean that is more than 2 standard deviations away from the mean of our distribution of sample means, it is highly unlikely that they come from the same population - there's less than a 5% chance that they're from the same population"
      ],
      "metadata": {
        "id": "qaMvMgVLQ9Ae"
      }
    },
    {
      "cell_type": "code",
      "execution_count": null,
      "metadata": {
        "id": "iX1EVJx50zGw",
        "colab": {
          "base_uri": "https://localhost:8080/"
        },
        "outputId": "e2d207ee-3185-43dc-a387-a4cf310f1963"
      },
      "outputs": [
        {
          "output_type": "stream",
          "name": "stdout",
          "text": [
            "2.7 - 4.07\n"
          ]
        }
      ],
      "source": [
        "# mean of distribution of sample means\n",
        "mean_sdsm = np.mean(sampling_dist_sample_means)\n",
        "\n",
        "lower_bound = mean_sdsm - 2*standard_error\n",
        "upper_bound = mean_sdsm + 2*standard_error\n",
        "\n",
        "print(round(lower_bound, 2), \"-\", round(upper_bound, 2))"
      ]
    },
    {
      "cell_type": "code",
      "execution_count": null,
      "metadata": {
        "id": "vK0FR2LH0zGw",
        "colab": {
          "base_uri": "https://localhost:8080/"
        },
        "outputId": "11191b0f-49e2-4ab6-faa5-4c6bac9e4f23"
      },
      "outputs": [
        {
          "output_type": "stream",
          "name": "stdout",
          "text": [
            "Percentage of sample means within 2 standard errors of the mean = 95.7\n"
          ]
        }
      ],
      "source": [
        "count = 0\n",
        "for i in sample_means:\n",
        "    if i > lower_bound and i < upper_bound:\n",
        "        count +=1\n",
        "print(f\"Percentage of sample means within 2 standard errors of the mean = { count/len(sample_means)*100 }\")"
      ]
    },
    {
      "cell_type": "markdown",
      "metadata": {
        "id": "i5ExludR0zGw"
      },
      "source": [
        "Another property the standard error is that it can be estimated by taking the standard deviation of the population and dividing it by the square root of the sample size.\n",
        "\n",
        "Let's see how this checks out with our data:"
      ]
    },
    {
      "cell_type": "code",
      "execution_count": null,
      "metadata": {
        "id": "elXweibW0zGw",
        "colab": {
          "base_uri": "https://localhost:8080/"
        },
        "outputId": "c88e23ae-5592-47ce-f99b-a3ac5ddc3f33"
      },
      "outputs": [
        {
          "output_type": "execute_result",
          "data": {
            "text/plain": [
              "50"
            ]
          },
          "metadata": {},
          "execution_count": 26
        }
      ],
      "source": [
        "sample_size"
      ]
    },
    {
      "cell_type": "code",
      "execution_count": null,
      "metadata": {
        "id": "RY98Oj8B0zGw",
        "colab": {
          "base_uri": "https://localhost:8080/"
        },
        "outputId": "36122544-aa7b-46c1-d9af-7418c8860cd6"
      },
      "outputs": [
        {
          "output_type": "execute_result",
          "data": {
            "text/plain": [
              "0.3426619185774776"
            ]
          },
          "metadata": {},
          "execution_count": 27
        }
      ],
      "source": [
        "standard_error"
      ]
    },
    {
      "cell_type": "code",
      "execution_count": null,
      "metadata": {
        "id": "HsXr6fz_0zGw",
        "colab": {
          "base_uri": "https://localhost:8080/"
        },
        "outputId": "4cdcc7d5-e826-40f6-cbcb-c88651c09c1f"
      },
      "outputs": [
        {
          "output_type": "execute_result",
          "data": {
            "text/plain": [
              "0    2.438371\n",
              "dtype: float64"
            ]
          },
          "metadata": {},
          "execution_count": 28
        }
      ],
      "source": [
        "# standard deviation of the population\n",
        "pop_std"
      ]
    },
    {
      "cell_type": "markdown",
      "metadata": {
        "id": "z353iTjS0zGw"
      },
      "source": [
        "The formula of standard error is:\n",
        "\n",
        "$$\\sigma_{M} = \\frac{\\sigma}{\\sqrt(n)}$$\n",
        "\n",
        "* $\\sigma$ is the standard deviation of the population from which sample is drawn.\n",
        "* $n$ is the size of the sample."
      ]
    },
    {
      "cell_type": "code",
      "execution_count": null,
      "metadata": {
        "scrolled": true,
        "id": "eGqmlGju0zGw",
        "colab": {
          "base_uri": "https://localhost:8080/"
        },
        "outputId": "f6260264-0a76-41ad-f540-0582a273f74b"
      },
      "outputs": [
        {
          "output_type": "execute_result",
          "data": {
            "text/plain": [
              "0    0.344838\n",
              "dtype: float64"
            ]
          },
          "metadata": {},
          "execution_count": 29
        }
      ],
      "source": [
        "# population standard deviation / square root of population size\n",
        "pop_std/np.sqrt(sample_size)"
      ]
    },
    {
      "cell_type": "markdown",
      "source": [
        "When we don't have access the population, we estimate the standard error of the mean by taking the standard deviation of the sample:"
      ],
      "metadata": {
        "id": "_Dc_073dXI3N"
      }
    },
    {
      "cell_type": "code",
      "execution_count": null,
      "metadata": {
        "id": "3YM5W3kC0zGx",
        "colab": {
          "base_uri": "https://localhost:8080/"
        },
        "outputId": "77e47f3c-9dfe-462c-c71c-fbeecc68b0f3"
      },
      "outputs": [
        {
          "output_type": "execute_result",
          "data": {
            "text/plain": [
              "0    0.364068\n",
              "dtype: float64"
            ]
          },
          "metadata": {},
          "execution_count": 30
        }
      ],
      "source": [
        "# sample standard deviation / square root of population size\n",
        "sample.std()/np.sqrt(sample_size)"
      ]
    },
    {
      "cell_type": "markdown",
      "metadata": {
        "id": "Zy1n0RB40zGx"
      },
      "source": [
        "In the major part of the cases, we don't know the population standard deviation, so for large samples, we can assume that the standard deviation of the sample is reasonably close to the standard deviation of the population."
      ]
    },
    {
      "cell_type": "markdown",
      "metadata": {
        "id": "MQIZRPJN0zGx"
      },
      "source": [
        "#### **Exercise 2:**\n",
        "Before moving on, repeat the experiment (located under the header `Sampling distributions`) changing a few parameters and note down what happens in the following cases:\n",
        "\n",
        "* With diferent sample sizes (both smaller and greater)\n",
        "* With fewer or more samples.\n",
        "* Adding some extreme outliers to the population.\n",
        "* Sampling without replacement."
      ]
    },
    {
      "cell_type": "code",
      "source": [
        "# you can copy-paste code from above in this cell\n",
        "# and modify it"
      ],
      "metadata": {
        "id": "lbQuiNMJ91TP"
      },
      "execution_count": null,
      "outputs": []
    },
    {
      "cell_type": "markdown",
      "metadata": {
        "id": "WIoJEKaP0zGx"
      },
      "source": [
        "Summarising the main ideas:\n",
        "\n",
        "* If you draw large, random samples from any population, the means of those samples will be distributed normally around the population mean (regardless of what the distribution of the underlying population looks like).\n",
        "* Most sample means will lie reasonably close to the poulation mean; the standard error is what defines \"reasonably close\".\n",
        "* The central limit theorem tells us the probability that a sample mean will lie within a certain distance of the population mean. It is relatively unlikely that a sample mean willl lie more than two standard errors from the population mean, and extremely unlikely that it will lie three or more standard errors from the population mean.\n",
        "* The less likely it is that an outcome has been observed by change, the more confidence we can in surmising that some other factor is in play."
      ]
    },
    {
      "cell_type": "markdown",
      "metadata": {
        "id": "LrTtpCS40zGx"
      },
      "source": [
        "## Squirrels example\n",
        "\n",
        "Let's assume that the population values from earlier represent the weights of squirrels. Now, in reality, if we took a sample of squirrels we wouldn't know the mean and the standard deviation of the population - this is normal. We simply go to the forest, take a random sample of 50 squirrels and register their weight:"
      ]
    },
    {
      "cell_type": "code",
      "execution_count": null,
      "metadata": {
        "id": "r4zDFJy60zGx",
        "colab": {
          "base_uri": "https://localhost:8080/",
          "height": 281
        },
        "outputId": "a7829a71-f69d-49b4-d2bf-6637831a2275"
      },
      "outputs": [
        {
          "output_type": "display_data",
          "data": {
            "text/plain": [
              "<Figure size 432x288 with 1 Axes>"
            ],
            "image/png": "[encoded data removed]"
          },
          "metadata": {
            "needs_background": "light"
          }
        }
      ],
      "source": [
        "squirrels = pop.sample(50, random_state=1990)\n",
        "\n",
        "squirrels.hist();"
      ]
    },
    {
      "cell_type": "markdown",
      "metadata": {
        "id": "XUmJPFqV0zGx"
      },
      "source": [
        "We wonder if the mean of the weights of the squirrels is close to the 'true' mean of the population (which we can't measure)\n"
      ]
    },
    {
      "cell_type": "code",
      "execution_count": null,
      "metadata": {
        "id": "OP1yO8yz0zGy",
        "colab": {
          "base_uri": "https://localhost:8080/"
        },
        "outputId": "1119e505-cc54-437e-c6f0-0c2e4e8c2067"
      },
      "outputs": [
        {
          "output_type": "execute_result",
          "data": {
            "text/plain": [
              "3.3492958902381855"
            ]
          },
          "metadata": {},
          "execution_count": 33
        }
      ],
      "source": [
        "# mean of our sample\n",
        "mean_squirrels = float(squirrels.mean())\n",
        "mean_squirrels"
      ]
    },
    {
      "cell_type": "markdown",
      "metadata": {
        "id": "wQ7Z1tMm0zGy"
      },
      "source": [
        "The standard error of the mean is an estimate of how far the sample mean is likely to be from the population mean.\n",
        "\n",
        "It is an estimate of the standard deviation of the sampling distribution of the sample means, which, as we've seen, follows a normal ditribution."
      ]
    },
    {
      "cell_type": "code",
      "execution_count": null,
      "metadata": {
        "id": "zDWWvxn_0zGy",
        "colab": {
          "base_uri": "https://localhost:8080/"
        },
        "outputId": "a20a6e7f-50d5-4da6-8e23-31dcff1833ad"
      },
      "outputs": [
        {
          "output_type": "execute_result",
          "data": {
            "text/plain": [
              "0.34511169176753176"
            ]
          },
          "metadata": {},
          "execution_count": 34
        }
      ],
      "source": [
        "# standard error of the mean\n",
        "sem_squirrels = float(squirrels.std()/np.sqrt(len(squirrels)))\n",
        "sem_squirrels"
      ]
    },
    {
      "cell_type": "markdown",
      "source": [
        "We can also calculate the standard error using scipy"
      ],
      "metadata": {
        "id": "wcB9FyytZW4b"
      }
    },
    {
      "cell_type": "code",
      "execution_count": null,
      "metadata": {
        "id": "LjrCQJuO0zGy",
        "colab": {
          "base_uri": "https://localhost:8080/"
        },
        "outputId": "ac7eecfb-b0bf-43b4-b46e-d4d7346c6a2e"
      },
      "outputs": [
        {
          "output_type": "execute_result",
          "data": {
            "text/plain": [
              "array([0.34511169])"
            ]
          },
          "metadata": {},
          "execution_count": 35
        }
      ],
      "source": [
        "stats.sem(squirrels)"
      ]
    },
    {
      "cell_type": "markdown",
      "metadata": {
        "id": "SttG17TR0zGy"
      },
      "source": [
        "We know that no matter the distribution of our sample or the population, the sampling distribution of the sample means is normal (Central Limit Theorem).\n",
        "\n",
        "Knowing that, we can use the properties of the normal distribution to gain information about our sample and how much it might differ from the true population.\n",
        "\n",
        "We have:\n",
        "\n",
        "1. The mean of the sample.\n",
        "2. An estimation of the standard error.\n",
        "\n",
        "With this two elements and knowing the CLT, we can simulate a sampling distribution of sample means built around the mean of our sample.\n",
        "\n",
        "This sampling distribution we will simulate will be, of course, normal. We can plot it and draw the lines within 2 Standard Errors above and below the mean, representing the interval where 95% of the observations fall:"
      ]
    },
    {
      "cell_type": "code",
      "source": [
        "# generating a normal distribution\n",
        "sampling_dist_squirrels = stats.norm.rvs(loc=mean_squirrels, # The mean of the sample.\n",
        "                                         scale=sem_squirrels, # An estimation of the standard error.\n",
        "                                         size=100000,\n",
        "                                         random_state=123\n",
        "                                         )\n",
        "\n",
        "norm_dist = pd.Series(sampling_dist_squirrels)\n",
        "\n",
        "norm_dist.hist(bins=30, figsize=(14, 8))\n",
        "\n",
        "plt.axvline(mean_squirrels-sem_squirrels*2, color = 'r', linestyle=\"--\")\n",
        "plt.axvline(mean_squirrels+sem_squirrels*2, color = 'r', linestyle=\"--\");"
      ],
      "metadata": {
        "id": "JEi0BB25h5n5",
        "colab": {
          "base_uri": "https://localhost:8080/",
          "height": 483
        },
        "outputId": "1a4227ad-d538-4a47-8abf-df25be7ccc85"
      },
      "execution_count": null,
      "outputs": [
        {
          "output_type": "display_data",
          "data": {
            "text/plain": [
              "<Figure size 1008x576 with 1 Axes>"
            ],
            "image/png": "[encoded data removed]"
          },
          "metadata": {
            "needs_background": "light"
          }
        }
      ]
    },
    {
      "cell_type": "markdown",
      "source": [
        "What does this distribution and this interval tell us?\n",
        "\n",
        "If we took many samples, and in each sample we drew this interval with the red dotted lines, 95% of the time the true mean would fall inside of the interval. 5% of the time, the mean would fall outside (2.5% in each direction).\n",
        "\n",
        "This is why we call this the 95% confidence interval. A **confidence interval** is a 'plausible range of values' for a population parameter (in this case, the mean).\n",
        "\n",
        "Let's calculate the upper and lower bounds of this interval:"
      ],
      "metadata": {
        "id": "lXLIHJpSh1eF"
      }
    },
    {
      "cell_type": "code",
      "execution_count": null,
      "metadata": {
        "id": "TVkP9cq10zGy",
        "colab": {
          "base_uri": "https://localhost:8080/"
        },
        "outputId": "78632353-616e-4336-c491-9adcabd99d29"
      },
      "outputs": [
        {
          "output_type": "execute_result",
          "data": {
            "text/plain": [
              "0    4.039519\n",
              "dtype: float64"
            ]
          },
          "metadata": {},
          "execution_count": 37
        }
      ],
      "source": [
        "# upper bound of the confidence interval\n",
        "np.mean(squirrels) + stats.sem(squirrels)*2\n",
        "\n",
        "# if you want the results to match with the manual calculation below,\n",
        "# change the \"2\" for a \"1.96\""
      ]
    },
    {
      "cell_type": "code",
      "execution_count": null,
      "metadata": {
        "id": "LHxMUQzQ0zGy",
        "colab": {
          "base_uri": "https://localhost:8080/"
        },
        "outputId": "a34c02ab-8777-43cd-fdbb-7ec3b8c6e65a"
      },
      "outputs": [
        {
          "output_type": "execute_result",
          "data": {
            "text/plain": [
              "0    2.659073\n",
              "dtype: float64"
            ]
          },
          "metadata": {},
          "execution_count": 38
        }
      ],
      "source": [
        "# lower bound of the confidence interval\n",
        "np.mean(squirrels) - stats.sem(squirrels)*2\n",
        "\n",
        "# if you want the results to match with the manual calculation below,\n",
        "# change the \"2\" for a \"1.96\""
      ]
    },
    {
      "cell_type": "code",
      "execution_count": null,
      "metadata": {
        "id": "kHq5RXD40zGy",
        "colab": {
          "base_uri": "https://localhost:8080/"
        },
        "outputId": "a3e83823-af39-4293-932c-b7d9c7ca35a7"
      },
      "outputs": [
        {
          "output_type": "execute_result",
          "data": {
            "text/plain": [
              "(array([2.6728894]), array([4.02570238]))"
            ]
          },
          "metadata": {},
          "execution_count": 39
        }
      ],
      "source": [
        "# using scipy to calculate the confidence interval:\n",
        "stats.norm.interval(alpha=0.95, # the confidence level\n",
        "                 loc=np.mean(squirrels), # mean of our sample\n",
        "                 scale=stats.sem(squirrels)) # standard error of the mean"
      ]
    },
    {
      "cell_type": "markdown",
      "metadata": {
        "id": "gUZEvB0z0zGz"
      },
      "source": [
        "We have made some estimations that might be imperfect, for example when calculating the Standard Error. And our sample is not really big (only 50 squirrels). If we want an extra degree of confidence or, in other words, a more conservative estimate of the confidence interval, we can use a t-distribution instead of a normal distribution.\n",
        "\n",
        "A t distribution is 'flatter' and has 'fat tails' for small populations, and is indistinguishable from a normal distribution for bigger populations.\n",
        "\n"
      ]
    },
    {
      "cell_type": "code",
      "source": [
        "# generating a t distribution\n",
        "sampling_t_dist_squirrels = stats.t.rvs(loc=mean_squirrels, # The mean of the sample.\n",
        "                                        scale=sem_squirrels, # An estimation of the standard error.\n",
        "                                        df=len(squirrels), # Our sample size\n",
        "                                        size=100000,\n",
        "                                        random_state=123\n",
        "                                         )\n",
        "\n",
        "sampling_t_dist_squirrels = pd.Series(sampling_t_dist_squirrels)\n",
        "\n",
        "sampling_t_dist_squirrels.hist(bins=30, figsize=(14, 8));"
      ],
      "metadata": {
        "id": "ZsWVzwV8nL62",
        "colab": {
          "base_uri": "https://localhost:8080/",
          "height": 483
        },
        "outputId": "c77d2a27-eaa1-452c-f931-5cf4528da7ed"
      },
      "execution_count": null,
      "outputs": [
        {
          "output_type": "display_data",
          "data": {
            "text/plain": [
              "<Figure size 1008x576 with 1 Axes>"
            ],
            "image/png": "[encoded data removed]"
          },
          "metadata": {
            "needs_background": "light"
          }
        }
      ]
    },
    {
      "cell_type": "markdown",
      "source": [
        "The confidence interval is slightly thinner if we use a normal distribution:"
      ],
      "metadata": {
        "id": "a_i52a6qnMxF"
      }
    },
    {
      "cell_type": "code",
      "execution_count": null,
      "metadata": {
        "id": "iamLy3JL0zGy",
        "colab": {
          "base_uri": "https://localhost:8080/"
        },
        "outputId": "2181d405-e26b-43d5-cf8a-f0a1369c0d11"
      },
      "outputs": [
        {
          "output_type": "execute_result",
          "data": {
            "text/plain": [
              "(array([2.65576798]), array([4.0428238]))"
            ]
          },
          "metadata": {},
          "execution_count": 41
        }
      ],
      "source": [
        "# using a t distribution:\n",
        "t_interval = stats.t.interval(\n",
        "            0.95, # the confidence level\n",
        "            len(squirrels)-1, # degrees of freedom = sample size - 1\n",
        "            loc=np.mean(squirrels), # mean of our sample\n",
        "            scale=stats.sem(squirrels) # standard error of the mean\n",
        "            )\n",
        "\n",
        "t_interval"
      ]
    },
    {
      "cell_type": "markdown",
      "source": [
        "### **Exercise 3:**\n",
        "\n",
        "Did the true mean really fall within the 95% confidence interval?"
      ],
      "metadata": {
        "id": "3Ujg7PSRmnj1"
      }
    },
    {
      "cell_type": "code",
      "execution_count": null,
      "metadata": {
        "id": "XeV6AvfA0zGz",
        "colab": {
          "base_uri": "https://localhost:8080/"
        },
        "outputId": "0a8846f0-56ca-4c1b-e446-3a272db0725c"
      },
      "outputs": [
        {
          "output_type": "stream",
          "name": "stdout",
          "text": [
            "yes\n"
          ]
        }
      ],
      "source": [
        "# code here\n",
        "if (float(pop_mean) > t_interval[0][0]) & (float(pop_mean) < t_interval[1][0]):\n",
        "  print(\"yes\")"
      ]
    },
    {
      "cell_type": "markdown",
      "source": [
        "Probably yes, but beware: by definition, 5% of the time it will not!\n",
        "\n",
        "Code explanation:\n",
        "The given code is checking if a certain value, `pop_mean`, falls within a range represented by `t_interval`.\n",
        "\n",
        "```python\n",
        "if (float(pop_mean) > t_interval[0][0]) & (float(pop_mean) < t_interval[1][0]):\n",
        "  print(\"yes\")\n",
        "```\n",
        "\n",
        "Here is a detailed line-by-line explanation of the code:\n",
        "\n",
        "1. `if (float(pop_mean) > t_interval[0][0]) & (float(pop_mean) < t_interval[1][0]):` - This line is a conditional statement that checks if `pop_mean` is within the range defined by `t_interval`. The `float()` function is used to ensure that `pop_mean` is a floating-point number before the comparison.\n",
        "\n",
        "  - `float(pop_mean) > t_interval[0][0]` - This part of the condition checks if `pop_mean` is greater than the first element of the first list in `t_interval`.\n",
        "  \n",
        "  - `float(pop_mean) < t_interval[1][0]` - This part of the condition checks if `pop_mean` is less than the first element of the second list in `t_interval`.\n",
        "\n",
        "  - The `&` operator is used to ensure that both conditions must be true for the entire condition to be true. This means that `pop_mean` must be both greater than the first element of the first list and less than the first element of the second list in `t_interval`.\n",
        "\n",
        "2. `print(\"yes\")` - If the condition is true, meaning that `pop_mean` is within the range defined by `t_interval`, the string \"yes\" is printed.\n",
        "\n",
        "Note: The `float()` function in Python is used to convert a number or a string to a floating point number. If the number is already a float, the same number is returned. The `float()` function is used in this code to ensure that `pop_mean` is a floating-point number before the comparison is made. It's also worth noting that if `pop_mean` were a string that cannot be converted to a float, this code would raise a `ValueError`\n",
        "\n",
        "### **Exercise 4**:\n",
        "Can you run the experiment 10,000 times and prove it?"
      ],
      "metadata": {
        "id": "Xyci-4zZ0zGz"
      }
    },
    {
      "cell_type": "code",
      "source": [
        "# code here\n",
        "# Initialize a counter to keep track of how many times the true mean falls within the confidence interval\n",
        "counter = 0\n",
        "\n",
        "# Run the simulation 10,000 times\n",
        "for i in range(10000):\n",
        "  # Draw a random sample of 50 from the population\n",
        "  i_sample = pop.sample(50)\n",
        "  # Compute a 95% confidence interval for the sample\n",
        "  t_interval = stats.t.interval(\n",
        "    0.95, # the confidence level\n",
        "    len(i_sample)-1, # degrees of freedom = sample size - 1\n",
        "    loc=np.mean(i_sample), # mean of our sample\n",
        "    scale=stats.sem(i_sample) # standard error of the mean\n",
        "    )\n",
        "  # Check if the true population mean falls within the confidence interval\n",
        "  if (float(pop_mean) > t_interval[0][0]) & (float(pop_mean) < t_interval[1][0]):\n",
        "    # If it does, increment the counter\n",
        "    counter += 1\n",
        "\n",
        "# Print the number of times the true mean falls inside the confidence interval\n",
        "print(\"The true mean falls inside the confidence interval \" + str(counter) + \" times\")\n"
      ],
      "metadata": {
        "id": "vlEwGVWPmzcG",
        "colab": {
          "base_uri": "https://localhost:8080/"
        },
        "outputId": "12861687-4780-41cb-c2d2-358526d74c6b"
      },
      "execution_count": null,
      "outputs": [
        {
          "output_type": "stream",
          "name": "stdout",
          "text": [
            "The true mean falls inside the confidence interval 9506 times\n"
          ]
        }
      ]
    }
  ],
  "metadata": {
    "kernelspec": {
      "display_name": "Python 3",
      "language": "python",
      "name": "python3"
    },
    "language_info": {
      "codemirror_mode": {
        "name": "ipython",
        "version": 3
      },
      "file_extension": ".py",
      "mimetype": "text/x-python",
      "name": "python",
      "nbconvert_exporter": "python",
      "pygments_lexer": "ipython3",
      "version": "3.9.7"
    },
    "toc": {
      "base_numbering": 1,
      "nav_menu": {},
      "number_sections": true,
      "sideBar": true,
      "skip_h1_title": false,
      "title_cell": "Table of Contents",
      "title_sidebar": "Contents",
      "toc_cell": false,
      "toc_position": {},
      "toc_section_display": true,
      "toc_window_display": false
    },
    "varInspector": {
      "cols": {
        "lenName": 16,
        "lenType": 16,
        "lenVar": 40
      },
      "kernels_config": {
        "python": {
          "delete_cmd_postfix": "",
          "delete_cmd_prefix": "del ",
          "library": "var_list.py",
          "varRefreshCmd": "print(var_dic_list())"
        },
        "r": {
          "delete_cmd_postfix": ") ",
          "delete_cmd_prefix": "rm(",
          "library": "var_list.r",
          "varRefreshCmd": "cat(var_dic_list()) "
        }
      },
      "types_to_exclude": [
        "module",
        "function",
        "builtin_function_or_method",
        "instance",
        "_Feature"
      ],
      "window_display": false
    },
    "colab": {
      "provenance": []
    }
  },
  "nbformat": 4,
  "nbformat_minor": 0
}